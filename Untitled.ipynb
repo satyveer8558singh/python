{
 "cells": [
  {
   "cell_type": "code",
   "execution_count": 1,
   "id": "086ed02c",
   "metadata": {},
   "outputs": [
    {
     "ename": "NameError",
     "evalue": "name 'strsample' is not defined",
     "output_type": "error",
     "traceback": [
      "\u001b[0;31m---------------------------------------------------------------------------\u001b[0m",
      "\u001b[0;31mNameError\u001b[0m                                 Traceback (most recent call last)",
      "Cell \u001b[0;32mIn[1], line 1\u001b[0m\n\u001b[0;32m----> 1\u001b[0m \u001b[38;5;28mprint\u001b[39m(strsample)\n\u001b[1;32m      2\u001b[0m strsample [\u001b[38;5;28mslice\u001b[39m(\u001b[38;5;241m1\u001b[39m,\u001b[38;5;241m4\u001b[39m,\u001b[38;5;241m2\u001b[39m)]\n",
      "\u001b[0;31mNameError\u001b[0m: name 'strsample' is not defined"
     ]
    }
   ],
   "source": [
    "print(strsample)\n",
    "strsample [slice(1,4,2)]"
   ]
  },
  {
   "cell_type": "code",
   "execution_count": 2,
   "id": "1086ad01",
   "metadata": {},
   "outputs": [
    {
     "ename": "NameError",
     "evalue": "name 'strsample' is not defined",
     "output_type": "error",
     "traceback": [
      "\u001b[0;31m---------------------------------------------------------------------------\u001b[0m",
      "\u001b[0;31mNameError\u001b[0m                                 Traceback (most recent call last)",
      "Cell \u001b[0;32mIn[2], line 1\u001b[0m\n\u001b[0;32m----> 1\u001b[0m strsample[\u001b[38;5;28mslice\u001b[39m(\u001b[38;5;241m1\u001b[39m,\u001b[38;5;241m4\u001b[39m,\u001b[38;5;241m2\u001b[39m)]\n\u001b[1;32m      2\u001b[0m \u001b[38;5;28mprint\u001b[39m(strsample)\n",
      "\u001b[0;31mNameError\u001b[0m: name 'strsample' is not defined"
     ]
    }
   ],
   "source": [
    "strsample[slice(1,4,2)]\n",
    "print(strsample)"
   ]
  },
  {
   "cell_type": "code",
   "execution_count": null,
   "id": "659c57d0",
   "metadata": {},
   "outputs": [],
   "source": []
  }
 ],
 "metadata": {
  "kernelspec": {
   "display_name": "Python 3 (ipykernel)",
   "language": "python",
   "name": "python3"
  },
  "language_info": {
   "codemirror_mode": {
    "name": "ipython",
    "version": 3
   },
   "file_extension": ".py",
   "mimetype": "text/x-python",
   "name": "python",
   "nbconvert_exporter": "python",
   "pygments_lexer": "ipython3",
   "version": "3.11.5"
  }
 },
 "nbformat": 4,
 "nbformat_minor": 5
}
