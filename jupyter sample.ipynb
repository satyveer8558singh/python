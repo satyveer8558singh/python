{
 "cells": [
  {
   "cell_type": "code",
   "execution_count": 1,
   "id": "e5d5ddb8",
   "metadata": {},
   "outputs": [],
   "source": [
    "a=5"
   ]
  },
  {
   "cell_type": "code",
   "execution_count": 2,
   "id": "22593d15",
   "metadata": {},
   "outputs": [
    {
     "name": "stdout",
     "output_type": "stream",
     "text": [
      "5\n"
     ]
    }
   ],
   "source": [
    "print(a)"
   ]
  },
  {
   "cell_type": "markdown",
   "id": "9a859f41",
   "metadata": {},
   "source": [
    "satyveer"
   ]
  },
  {
   "cell_type": "markdown",
   "id": "e299e854",
   "metadata": {},
   "source": [
    "strsample = \"satyveer\"\n",
    "print(strsample)"
   ]
  },
  {
   "cell_type": "markdown",
   "id": "d6bb4121",
   "metadata": {},
   "source": [
    "strsample = 'satyveer'\n",
    "\n",
    "print(strsample)"
   ]
  },
  {
   "cell_type": "code",
   "execution_count": null,
   "id": "d2fa4a3a",
   "metadata": {},
   "outputs": [],
   "source": []
  }
 ],
 "metadata": {
  "kernelspec": {
   "display_name": "Python 3 (ipykernel)",
   "language": "python",
   "name": "python3"
  },
  "language_info": {
   "codemirror_mode": {
    "name": "ipython",
    "version": 3
   },
   "file_extension": ".py",
   "mimetype": "text/x-python",
   "name": "python",
   "nbconvert_exporter": "python",
   "pygments_lexer": "ipython3",
   "version": "3.11.5"
  }
 },
 "nbformat": 4,
 "nbformat_minor": 5
}
